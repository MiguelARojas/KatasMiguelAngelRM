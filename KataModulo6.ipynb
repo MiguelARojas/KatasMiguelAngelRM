{
 "cells": [
  {
   "cell_type": "markdown",
   "metadata": {},
   "source": [
    "# Kata Modulo 6"
   ]
  },
  {
   "cell_type": "markdown",
   "metadata": {},
   "source": [
    "### Ejercicio 1: Crear y usar listas de Python"
   ]
  },
  {
   "cell_type": "code",
   "execution_count": 5,
   "metadata": {},
   "outputs": [
    {
     "name": "stdout",
     "output_type": "stream",
     "text": [
      "8\n",
      "['Mercury', 'Venus', 'Earth', 'Mars', 'Jupiter', 'Saturn', 'Uranus', 'Neptune']\n",
      "The last planet of the list is:  Pluto\n"
     ]
    }
   ],
   "source": [
    "# creamos una lista con los 8 planetas\n",
    "planets = ['Mercury', 'Venus', 'Earth', 'Mars', 'Jupiter', 'Saturn', 'Uranus', 'Neptune']\n",
    "# imprimimos la cantidad de registros que cuenta nuestra lista\n",
    "print(len(planets))\n",
    "# imprimimos la lista como tal\n",
    "print(planets)\n",
    "\n",
    "# ahora agregaremos pluton a la lista\n",
    "planets.append('Pluto')\n",
    "\n",
    "# mostramos el ultimo elemento\n",
    "print('The last planet of the list is: ', planets[8])"
   ]
  },
  {
   "cell_type": "markdown",
   "metadata": {},
   "source": [
    "### Ejercicio 2: Trabajando con datos de una lista"
   ]
  },
  {
   "cell_type": "code",
   "execution_count": 7,
   "metadata": {},
   "outputs": [
    {
     "name": "stdout",
     "output_type": "stream",
     "text": [
      "Los planetas mas cercanos a:  Venus\n",
      "['Mercury']\n",
      "Los planetas mas lejanos a:  Venus\n",
      "['Earth', 'Mars', 'Jupiter', 'Saturn', 'Uranus', 'Neptune']\n"
     ]
    }
   ],
   "source": [
    "# creamos la lista de nuestros planetas \n",
    "planets = ['Mercury', 'Venus', 'Earth', 'Mars', 'Jupiter', 'Saturn', 'Uranus', 'Neptune']\n",
    "\n",
    "# pedimos al usuario que ingrese un planeta a buscar\n",
    "planet = str(input(\"Ingresa un planeta (inicia con mayuscula): \"))\n",
    "\n",
    "# buscamos la posicion del planeta\n",
    "planet_search = planets.index(planet)\n",
    "\n",
    "# imprimimos los planetas mas cercanos al sol\n",
    "print('Los planetas mas cercanos a: ', planet)\n",
    "print(planets[0:planet_search])\n",
    "\n",
    "# mostramos los planetas más alejado al sol que el usuario agrego\n",
    "print('Los planetas mas lejanos a: ', planet)\n",
    "print(planets[planet_search + 1:])"
   ]
  }
 ],
 "metadata": {
  "interpreter": {
   "hash": "11a56c292d5c1026ab3c04d339e7a5cfafb57ae8c84d00b391ff4d1e71035b70"
  },
  "kernelspec": {
   "display_name": "Python 3.10.2 64-bit",
   "language": "python",
   "name": "python3"
  },
  "language_info": {
   "codemirror_mode": {
    "name": "ipython",
    "version": 3
   },
   "file_extension": ".py",
   "mimetype": "text/x-python",
   "name": "python",
   "nbconvert_exporter": "python",
   "pygments_lexer": "ipython3",
   "version": "3.10.2"
  },
  "orig_nbformat": 4
 },
 "nbformat": 4,
 "nbformat_minor": 2
}
