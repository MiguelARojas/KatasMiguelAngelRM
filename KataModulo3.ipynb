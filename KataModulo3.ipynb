{
 "cells": [
  {
   "cell_type": "markdown",
   "metadata": {},
   "source": [
    "# Ejercicio - Escribir declaraciones if, else, y elif"
   ]
  },
  {
   "cell_type": "markdown",
   "metadata": {},
   "source": [
    "#### Ejercicio 1"
   ]
  },
  {
   "cell_type": "code",
   "execution_count": 2,
   "metadata": {},
   "outputs": [
    {
     "name": "stdout",
     "output_type": "stream",
     "text": [
      "ALERTA -> Se detecto un asteoride con una velocidad de: 49 km/s\n"
     ]
    }
   ],
   "source": [
    "velocity_asteroid = 49\n",
    "\n",
    "if velocity_asteroid < 25:\n",
    "    print(\"Estamos a salvo\")\n",
    "else:\n",
    "    print(\"ALERTA -> Se detecto un asteoride con una velocidad de: \" + str(velocity_asteroid) + \" km/s\")"
   ]
  },
  {
   "cell_type": "markdown",
   "metadata": {},
   "source": [
    "#### Ejercicio 2"
   ]
  },
  {
   "cell_type": "code",
   "execution_count": 3,
   "metadata": {},
   "outputs": [
    {
     "name": "stdout",
     "output_type": "stream",
     "text": [
      "Lamentamos que no haya un asteroide en estos momentos.\n"
     ]
    }
   ],
   "source": [
    "velocity_asteroid = 19\n",
    "\n",
    "if velocity_asteroid > 20:\n",
    "    print(\"ALERTA -> Hay un asteroide en la atmosfera, busquen en el cielo para poder apreciarlo.\")\n",
    "elif(velocity_asteroid == 20):\n",
    "    print(\"ALERTA -> Posiblemente haya un asteroide en la atmosfera, busca en el cielo para poder apreciarlo.\")\n",
    "else:\n",
    "    print(\"Lamentamos que no haya un asteroide en estos momentos.\")"
   ]
  },
  {
   "cell_type": "markdown",
   "metadata": {},
   "source": [
    "#### Ejercicio 3"
   ]
  },
  {
   "cell_type": "code",
   "execution_count": 4,
   "metadata": {},
   "outputs": [
    {
     "name": "stdout",
     "output_type": "stream",
     "text": [
      "ALERTA -> Hay un asteroide en la atmosfera, busca en el cielo para poder apreciarlo.\n"
     ]
    }
   ],
   "source": [
    "size_asteroid = 30\n",
    "velocity_asteroid = 20\n",
    "\n",
    "if size_asteroid > 25 and velocity_asteroid > 25:\n",
    "    print(\"ALERTA -> Hay un asteroide potencialmente peligroso acercandose a la tierra.\")\n",
    "elif(velocity_asteroid >= 20):\n",
    "    print(\"ALERTA -> Hay un asteroide en la atmosfera, busca en el cielo para poder apreciarlo.\")\n",
    "elif(size_asteroid < 25):\n",
    "    print(\"Lamentamos que no haya nada en estos momentos.\")\n",
    "else:\n",
    "    print(\"Lamentamos que no haya nada en estos momentos.\")"
   ]
  }
 ],
 "metadata": {
  "interpreter": {
   "hash": "11a56c292d5c1026ab3c04d339e7a5cfafb57ae8c84d00b391ff4d1e71035b70"
  },
  "kernelspec": {
   "display_name": "Python 3.10.2 64-bit",
   "language": "python",
   "name": "python3"
  },
  "language_info": {
   "codemirror_mode": {
    "name": "ipython",
    "version": 3
   },
   "file_extension": ".py",
   "mimetype": "text/x-python",
   "name": "python",
   "nbconvert_exporter": "python",
   "pygments_lexer": "ipython3",
   "version": "3.10.2"
  },
  "orig_nbformat": 4
 },
 "nbformat": 4,
 "nbformat_minor": 2
}
