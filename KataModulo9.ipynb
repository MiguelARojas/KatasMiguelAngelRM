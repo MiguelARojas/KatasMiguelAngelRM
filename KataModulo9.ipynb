{
 "cells": [
  {
   "cell_type": "markdown",
   "metadata": {},
   "source": [
    "# Kata Modulo 9"
   ]
  },
  {
   "cell_type": "markdown",
   "metadata": {},
   "source": [
    "### Ejercicio 1: Trabajar con argumentos en funciones"
   ]
  },
  {
   "cell_type": "code",
   "execution_count": 9,
   "metadata": {},
   "outputs": [
    {
     "data": {
      "text/plain": [
       "'Reporte de tanques:\\n    Primer Tanque: 10%\\n    Segundo Tanque: 23%\\n    Tercer Tanque: 45%\\n    Total de porcentaje: 26.0%'"
      ]
     },
     "execution_count": 9,
     "metadata": {},
     "output_type": "execute_result"
    }
   ],
   "source": [
    "def tank(num1,num2,num3):\n",
    "    # hacemos la sumatoria  lo dividimos entre el numero de argumentos que pasaron\n",
    "    total = (num1 + num2 + num3) / 3\n",
    "    #retornamos el valor total\n",
    "    return f\"\"\"Reporte de tanques:\n",
    "    Primer Tanque: {num1}%\n",
    "    Segundo Tanque: {num2}%\n",
    "    Tercer Tanque: {num3}%\n",
    "    Total de porcentaje: {total}%\"\"\"\n",
    "\n",
    "tank(10,23,45)"
   ]
  },
  {
   "cell_type": "code",
   "execution_count": 5,
   "metadata": {},
   "outputs": [
    {
     "name": "stdout",
     "output_type": "stream",
     "text": [
      "30.0\n"
     ]
    }
   ],
   "source": [
    "print(tank(13,23,54))"
   ]
  },
  {
   "cell_type": "code",
   "execution_count": 15,
   "metadata": {},
   "outputs": [
    {
     "data": {
      "text/plain": [
       "31.0"
      ]
     },
     "execution_count": 15,
     "metadata": {},
     "output_type": "execute_result"
    }
   ],
   "source": [
    "def prom(cantidades):\n",
    "    promedio = sum(cantidades)\n",
    "    numero_cantidades = len(cantidades)\n",
    "    return round(promedio / numero_cantidades, 2)\n",
    "\n",
    "prom([23,54,23,12,43])\n"
   ]
  },
  {
   "cell_type": "code",
   "execution_count": 16,
   "metadata": {},
   "outputs": [
    {
     "name": "stdout",
     "output_type": "stream",
     "text": [
      "Reporte de tanques:\n",
      "    Primer Tanque: 23%\n",
      "    Segundo Tanque: 54%\n",
      "    Tercer Tanque: 23%\n",
      "    Total de porcentaje: 33.33%\n"
     ]
    }
   ],
   "source": [
    "def tank(num1,num2,num3):\n",
    "    #retornamos el valor total\n",
    "    return f\"\"\"Reporte de tanques:\n",
    "    Primer Tanque: {num1}%\n",
    "    Segundo Tanque: {num2}%\n",
    "    Tercer Tanque: {num3}%\n",
    "    Total de porcentaje: {prom([num1,num2,num3])}%\"\"\"\n",
    "\n",
    "print(tank(23,54,23))"
   ]
  },
  {
   "cell_type": "markdown",
   "metadata": {},
   "source": [
    "### Ejercicio 2: Trabajo con argumentos de palabra clave"
   ]
  },
  {
   "cell_type": "code",
   "execution_count": 18,
   "metadata": {},
   "outputs": [
    {
     "name": "stdout",
     "output_type": "stream",
     "text": [
      " Reporte Mision:\n",
      "    Prelanzamiento: 14\n",
      "    Tiempo de Vuelo: 100\n",
      "    Destino: Luna\n",
      "    Cantidad Tanque Externo: 100\n",
      "    Cantidad Tanque Interno: 45\n",
      "    \n"
     ]
    }
   ],
   "source": [
    "def report(Prelanzamiento, tiempoVuelo, destino, tanqueExterno, tanqueInterno):\n",
    "    return f\"\"\" Reporte Mision:\n",
    "    Prelanzamiento: {Prelanzamiento}\n",
    "    Tiempo de Vuelo: {tiempoVuelo}\n",
    "    Destino: {destino}\n",
    "    Cantidad Tanque Externo: {tanqueExterno}\n",
    "    Cantidad Tanque Interno: {tanqueInterno}\n",
    "    \"\"\"\n",
    "\n",
    "print(report(14,100,'Luna',100,45))\n"
   ]
  },
  {
   "cell_type": "code",
   "execution_count": 22,
   "metadata": {},
   "outputs": [
    {
     "name": "stdout",
     "output_type": "stream",
     "text": [
      " Reporte Mision:\n",
      "    Destino: Moon\n",
      "    Tiempo de Vuelo: 47 minutos\n",
      "    Cantidad Tanques: 13333\n",
      "    \n"
     ]
    }
   ],
   "source": [
    "def report(destino,*minutes, **fuel_reservoirs):\n",
    "    return f\"\"\" Reporte Mision:\n",
    "    Destino: {destino}\n",
    "    Tiempo de Vuelo: {sum(minutes)} minutos\n",
    "    Cantidad Tanques: {sum(fuel_reservoirs.values())}\n",
    "    \"\"\"\n",
    "print(report(\"Moon\", 12,23,12, Externo = 1200, Interno = 12133))"
   ]
  },
  {
   "cell_type": "code",
   "execution_count": 29,
   "metadata": {},
   "outputs": [
    {
     "name": "stdout",
     "output_type": "stream",
     "text": [
      " Reporte Mision:\n",
      "    Destino: Moon\n",
      "    Tiempo de Vuelo: 47 minutos\n",
      "    Cantidad Tanques: 13333\n",
      "    Externo tanque: 1200 litros restantes\n",
      "Interno tanque: 12133 litros restantes\n",
      "\n"
     ]
    }
   ],
   "source": [
    "def report(destino,*minutes, **fuel_reservoirs):\n",
    "    reporte = f\"\"\" Reporte Mision:\n",
    "    Destino: {destino}\n",
    "    Tiempo de Vuelo: {sum(minutes)} minutos\n",
    "    Cantidad Tanques: {sum(fuel_reservoirs.values())}\n",
    "    \"\"\"\n",
    "    \n",
    "    for tanque, cantidad in fuel_reservoirs.items():\n",
    "        reporte += f\"{tanque} tanque: {cantidad} litros restantes\\n\"\n",
    "    return reporte\n",
    "\n",
    "print(report(\"Moon\", 12,23,12, Externo = 1200, Interno = 12133))"
   ]
  }
 ],
 "metadata": {
  "interpreter": {
   "hash": "11a56c292d5c1026ab3c04d339e7a5cfafb57ae8c84d00b391ff4d1e71035b70"
  },
  "kernelspec": {
   "display_name": "Python 3.10.2 64-bit",
   "language": "python",
   "name": "python3"
  },
  "language_info": {
   "codemirror_mode": {
    "name": "ipython",
    "version": 3
   },
   "file_extension": ".py",
   "mimetype": "text/x-python",
   "name": "python",
   "nbconvert_exporter": "python",
   "pygments_lexer": "ipython3",
   "version": "3.10.2"
  },
  "orig_nbformat": 4
 },
 "nbformat": 4,
 "nbformat_minor": 2
}
