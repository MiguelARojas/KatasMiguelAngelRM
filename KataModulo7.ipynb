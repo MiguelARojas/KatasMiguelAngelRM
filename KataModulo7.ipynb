{
 "cells": [
  {
   "cell_type": "markdown",
   "metadata": {},
   "source": [
    "# Kata Modulo 7"
   ]
  },
  {
   "cell_type": "markdown",
   "metadata": {},
   "source": [
    "### Ejercicio 1: Uso de ciclos while en Python"
   ]
  },
  {
   "cell_type": "code",
   "execution_count": 3,
   "metadata": {},
   "outputs": [],
   "source": [
    "# crearemos dos variables, una para los valores que de el usuario y otra para enlistar los valores\n",
    "new_planet = ''\n",
    "planets = []\n",
    "\n",
    "#crearemos un ciclo while para que pida los valores al usuario hasta que ponga la palabra done\n",
    "while new_planet.lower() != 'done':\n",
    "    # validamos que el usuario si ingrese un dato\n",
    "    if new_planet:\n",
    "        # agregamos los datos a la lista\n",
    "        planets.append(new_planet)\n",
    "    # Pedimos los datos al usuario\n",
    "    new_planet = input(\"Ingresa un planeta, si ya terminaste escribe 'done'\")"
   ]
  },
  {
   "cell_type": "markdown",
   "metadata": {},
   "source": [
    "### Ejercicio 2: Creación de un ciclo \"For\""
   ]
  },
  {
   "cell_type": "code",
   "execution_count": 4,
   "metadata": {},
   "outputs": [
    {
     "name": "stdout",
     "output_type": "stream",
     "text": [
      "Mercurio\n",
      "Venus\n",
      "Tierra\n",
      "Marte\n",
      "Jupiter\n",
      "Saturno\n",
      "Urano\n",
      "Neptuno\n"
     ]
    }
   ],
   "source": [
    "# en este ejercicio se mostrara e imprimira la lista que el usario creo anteriormente\n",
    "\n",
    "# Creamos un for para recorrer toda la lista\n",
    "for planet in planets:\n",
    "    print(planet)"
   ]
  }
 ],
 "metadata": {
  "interpreter": {
   "hash": "11a56c292d5c1026ab3c04d339e7a5cfafb57ae8c84d00b391ff4d1e71035b70"
  },
  "kernelspec": {
   "display_name": "Python 3.10.2 64-bit",
   "language": "python",
   "name": "python3"
  },
  "language_info": {
   "codemirror_mode": {
    "name": "ipython",
    "version": 3
   },
   "file_extension": ".py",
   "mimetype": "text/x-python",
   "name": "python",
   "nbconvert_exporter": "python",
   "pygments_lexer": "ipython3",
   "version": "3.10.2"
  },
  "orig_nbformat": 4
 },
 "nbformat": 4,
 "nbformat_minor": 2
}
