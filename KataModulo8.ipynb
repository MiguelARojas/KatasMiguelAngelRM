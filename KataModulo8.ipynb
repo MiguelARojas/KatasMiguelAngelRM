{
 "cells": [
  {
   "cell_type": "markdown",
   "metadata": {},
   "source": [
    "# Kata Modulo 8"
   ]
  },
  {
   "cell_type": "markdown",
   "metadata": {},
   "source": [
    "### Ejercicio 1: Creación de diccionarios de Python"
   ]
  },
  {
   "cell_type": "code",
   "execution_count": 4,
   "metadata": {},
   "outputs": [
    {
     "name": "stdout",
     "output_type": "stream",
     "text": [
      "name : Mars\n",
      "moons : 2\n"
     ]
    }
   ],
   "source": [
    "# Crearemos un diccionario para el marte\n",
    "\n",
    "Mars = {\n",
    "    'name' : 'Mars',\n",
    "    'moons': 2\n",
    "}\n",
    "\n",
    "for value in Mars.keys():\n",
    "    print(f'{value} : {Mars[value]}')"
   ]
  },
  {
   "cell_type": "code",
   "execution_count": 5,
   "metadata": {},
   "outputs": [
    {
     "name": "stdout",
     "output_type": "stream",
     "text": [
      "Mars tiene una circunferencia polar de: 6752\n"
     ]
    }
   ],
   "source": [
    "# agregamos un nuevo diccionario dentro del diccionario Mars\n",
    "Mars['circunferencia (km)'] = {\n",
    "    'polar' : 6752,\n",
    "    'equatorial' : 6792\n",
    "}\n",
    "\n",
    "# imprimimos el nombre del planeta con la circunferencia polar\n",
    "print(f\"{Mars['name']} tiene una circunferencia polar de: {Mars['circunferencia (km)']['polar']}\")"
   ]
  },
  {
   "cell_type": "markdown",
   "metadata": {},
   "source": [
    "### Ejercicio 3: Programación dinámica con diccionarios"
   ]
  },
  {
   "cell_type": "code",
   "execution_count": 9,
   "metadata": {},
   "outputs": [
    {
     "name": "stdout",
     "output_type": "stream",
     "text": [
      "El total de lunas en nuestro sistema solar es -> 214\n",
      "El promedio de lunas que cuenta cada planeta es -> 17.83\n"
     ]
    }
   ],
   "source": [
    "# Determinaremos cuanto es el numero total de lunas en el sistema solar y a la vez el promedio de lunas que cuenta cada planeta\n",
    "\n",
    "# Creamos el diccionario de los planetas con sus lunas\n",
    "planet_moons = {\n",
    "    'mercury': 0,\n",
    "    'venus': 0,\n",
    "    'earth': 1,\n",
    "    'mars': 2,\n",
    "    'jupiter': 79,\n",
    "    'saturn': 82,\n",
    "    'uranus': 27,\n",
    "    'neptune': 14,\n",
    "    'pluto': 5,\n",
    "    'haumea': 2,\n",
    "    'makemake': 1,\n",
    "    'eris': 1\n",
    "}\n",
    "\n",
    "# creamos la variable para almacenar el total de lunas\n",
    "total_moons = 0\n",
    "\n",
    "# obtenemos el total de planetas\n",
    "planets = len(planet_moons.keys())\n",
    "\n",
    "for value in planet_moons.values():\n",
    "    total_moons += value\n",
    "\n",
    "print(f\"El total de lunas en nuestro sistema solar es -> {total_moons}\")\n",
    "\n",
    "# ahora calcularemos el promedio de plantas que cuenta cada planeta\n",
    "# creamos la variable para almacenar el promedio y le asinamos la cantidad\n",
    "promedio_moons = total_moons / planets\n",
    "\n",
    "print(f\"El promedio de lunas que cuenta cada planeta es -> {round(promedio_moons,2)}\")"
   ]
  }
 ],
 "metadata": {
  "interpreter": {
   "hash": "11a56c292d5c1026ab3c04d339e7a5cfafb57ae8c84d00b391ff4d1e71035b70"
  },
  "kernelspec": {
   "display_name": "Python 3.10.2 64-bit",
   "language": "python",
   "name": "python3"
  },
  "language_info": {
   "codemirror_mode": {
    "name": "ipython",
    "version": 3
   },
   "file_extension": ".py",
   "mimetype": "text/x-python",
   "name": "python",
   "nbconvert_exporter": "python",
   "pygments_lexer": "ipython3",
   "version": "3.10.2"
  },
  "orig_nbformat": 4
 },
 "nbformat": 4,
 "nbformat_minor": 2
}
