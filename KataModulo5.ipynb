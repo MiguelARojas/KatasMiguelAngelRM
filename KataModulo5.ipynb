{
 "cells": [
  {
   "cell_type": "markdown",
   "metadata": {},
   "source": [
    "# Kata Modulo 5"
   ]
  },
  {
   "cell_type": "markdown",
   "metadata": {},
   "source": [
    "### Ejercicio 1 - Utilizar operadores aritméticos"
   ]
  },
  {
   "cell_type": "code",
   "execution_count": 10,
   "metadata": {},
   "outputs": [
    {
     "name": "stdout",
     "output_type": "stream",
     "text": [
      "La distancia entre la Tierra y Jupiter es:  628949330 km\n",
      "La distancia entre la Tierra y Jupiter es:  390577534 mi\n"
     ]
    }
   ],
   "source": [
    "# En este ejercicio se emplearan los operadores artiméticos para poder calcular la distrancia entre dos planetas\n",
    "# Datos: \n",
    "# Tierra (149.597.870 km) y Júpiter (778.547.200 km)\n",
    "\n",
    "# importamos la librerila ceil para poder redondear hacia arriba la variable deseada\n",
    "from math import ceil\n",
    "\n",
    "# declaramos las distancias de los planetas\n",
    "distance_Earth = 149597870\n",
    "distance_Jupyter = 778547200\n",
    "\n",
    "#obtenemos la distancia entre los dos planetas\n",
    "distance_between = distance_Jupyter - distance_Earth\n",
    "\n",
    "#imprimimos la distancia en kilometros\n",
    "print(\"La distancia entre la Tierra y Jupiter es: \", distance_between , \"km\")\n",
    "\n",
    "# hacemos la conversion de la distancia a millas\n",
    "distance_between *= 0.621\n",
    "\n",
    "# imprimimos la distancia en millas\n",
    "print(\"La distancia entre la Tierra y Jupiter es: \", ceil(distance_between), \"mi\")"
   ]
  },
  {
   "cell_type": "markdown",
   "metadata": {},
   "source": [
    "### Ejercicio 2 - Convierte Cadenas en números y usa valores absolutos"
   ]
  },
  {
   "cell_type": "code",
   "execution_count": 12,
   "metadata": {},
   "outputs": [
    {
     "name": "stdout",
     "output_type": "stream",
     "text": [
      "La distancia entre la primer distancia y la segunda distancia es:  58004306 km\n",
      "La distancia entre la primer distancia y la segunda distancia es:  36020675 mi\n"
     ]
    }
   ],
   "source": [
    "# En este ejercicio consiste en pedir la distancia entre dos puntos mediante una cadena y mediante el usuario\n",
    "first_distance = input(\"Digite la distancia del primer planeta\")\n",
    "second_distance = input(\"Digite la distancia del segundo planeta\")\n",
    "\n",
    "# realizamos la operacion para calcular la distancia\n",
    "distance = int(first_distance) - int(second_distance)\n",
    "\n",
    "#imprimimos la distancia en kilometros\n",
    "print(\"La distancia entre la primer distancia y la segunda distancia es: \", abs(distance) ,\"km\")\n",
    "\n",
    "#realizamos la conversion de la distancia a millas\n",
    "distance *= 0.621\n",
    "\n",
    "#imprimimos la distancia en millas\n",
    "print(\"La distancia entre la primer distancia y la segunda distancia es: \", abs(ceil(distance)) ,\"mi\")"
   ]
  }
 ],
 "metadata": {
  "interpreter": {
   "hash": "11a56c292d5c1026ab3c04d339e7a5cfafb57ae8c84d00b391ff4d1e71035b70"
  },
  "kernelspec": {
   "display_name": "Python 3.10.2 64-bit",
   "language": "python",
   "name": "python3"
  },
  "language_info": {
   "codemirror_mode": {
    "name": "ipython",
    "version": 3
   },
   "file_extension": ".py",
   "mimetype": "text/x-python",
   "name": "python",
   "nbconvert_exporter": "python",
   "pygments_lexer": "ipython3",
   "version": "3.10.2"
  },
  "orig_nbformat": 4
 },
 "nbformat": 4,
 "nbformat_minor": 2
}
